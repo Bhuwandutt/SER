{
 "cells": [
  {
   "cell_type": "markdown",
   "metadata": {
    "id": "dkesCAWLqN3L"
   },
   "source": [
    "## **Data Pre-processing Notebook** ##"
   ]
  },
  {
   "cell_type": "markdown",
   "metadata": {
    "id": "xhJ1HU6mp8ca"
   },
   "source": [
    "### Setting up the environment ###"
   ]
  },
  {
   "cell_type": "code",
   "execution_count": 3,
   "metadata": {
    "id": "L1tH6hJ4Hhtc",
    "executionInfo": {
     "status": "ok",
     "timestamp": 1681936690131,
     "user_tz": 240,
     "elapsed": 691,
     "user": {
      "displayName": "Bhuwan Dutt",
      "userId": "01290275309583295504"
     }
    }
   },
   "outputs": [],
   "source": [
    "from google.colab import drive\n",
    "import re\n",
    "import os\n",
    "import pandas as pd\n",
    "import numpy as np\n",
    "import math\n",
    "import matplotlib.pyplot as plt\n",
    "import matplotlib.style as ms\n",
    "from tqdm import tqdm\n",
    "import pickle\n",
    "import librosa\n",
    "import soundfile as sf\n",
    "import random"
   ]
  },
  {
   "cell_type": "markdown",
   "metadata": {
    "id": "vo4vP2yRpKH6"
   },
   "source": [
    "**Mounting Google Drive to access Dataset**\n"
   ]
  },
  {
   "cell_type": "code",
   "execution_count": 4,
   "metadata": {
    "colab": {
     "base_uri": "https://localhost:8080/"
    },
    "executionInfo": {
     "elapsed": 351,
     "status": "ok",
     "timestamp": 1681936691358,
     "user": {
      "displayName": "Bhuwan Dutt",
      "userId": "01290275309583295504"
     },
     "user_tz": 240
    },
    "id": "mbG1VoMNXlZa",
    "outputId": "3cfa8c5e-4ebe-48df-ec51-740e8b85f977"
   },
   "outputs": [
    {
     "output_type": "stream",
     "name": "stdout",
     "text": [
      "/content/drive/.shortcut-targets-by-id/1N67nrpGp2OxkpPngxjjiYJ-jGZOGMyEv/IEMOCAP_full_release\n",
      "df_iemocap.csv  \u001B[0m\u001B[01;34mPreprocessed\u001B[0m/  README.txt~  \u001B[01;34mSession2\u001B[0m/  \u001B[01;34mSession4\u001B[0m/\n",
      "\u001B[01;34mDocumentation\u001B[0m/  README.txt     \u001B[01;34mSession1\u001B[0m/    \u001B[01;34mSession3\u001B[0m/  \u001B[01;34mSession5\u001B[0m/\n"
     ]
    }
   ],
   "source": [
    "#drive.mount('/content/gdrive/', force_remount=True)\n",
    "%cd /content/drive/MyDrive/SER/IEMOCAP_full_release\n",
    "%ls"
   ]
  },
  {
   "cell_type": "markdown",
   "metadata": {
    "id": "am-mEF8SpZCX"
   },
   "source": [
    "### **Extract labels from Evaluation file**\n"
   ]
  },
  {
   "cell_type": "markdown",
   "metadata": {
    "id": "Lum4pB30yZFb"
   },
   "source": [
    "/content/drive/.shortcut-targets-by-id/1N67nrpGp2OxkpPngxjjiYJ-jGZOGMyEv/IEMOCAP_full_release"
   ]
  },
  {
   "cell_type": "markdown",
   "metadata": {
    "id": "nc3Zrs0HrtXU"
   },
   "source": [
    "**Extract** labels from Evaluation Files"
   ]
  },
  {
   "cell_type": "code",
   "execution_count": null,
   "metadata": {
    "id": "23R0sDvHp1L3"
   },
   "outputs": [],
   "source": [
    "info_line = re.compile(r'\\[.+\\]\\n', re.IGNORECASE)\n",
    "\n",
    "start_times, end_times, wav_file_names, emotions, vals, acts, doms = [], [], [], [], [], [], []\n",
    "\n",
    "for sess in range(1, 6):\n",
    "    emo_evaluation_dir = 'Session{}/dialog/EmoEvaluation/'.format(sess)\n",
    "    evaluation_files = [l for l in os.listdir(emo_evaluation_dir) if 'Ses' in l]\n",
    "    for file in evaluation_files:\n",
    "        with open(emo_evaluation_dir + file) as f:\n",
    "            content = f.read()\n",
    "        info_lines = re.findall(info_line, content)\n",
    "        for line in info_lines[1:]:  # the first line is a header\n",
    "            start_end_time, wav_file_name, emotion, val_act_dom = line.strip().split('\\t')\n",
    "            start_time, end_time = start_end_time[1:-1].split('-')\n",
    "            val, act, dom = val_act_dom[1:-1].split(',')\n",
    "            val, act, dom = float(val), float(act), float(dom)\n",
    "            start_time, end_time = float(start_time), float(end_time)\n",
    "            start_times.append(start_time)\n",
    "            end_times.append(end_time)\n",
    "            wav_file_names.append(wav_file_name)\n",
    "            emotions.append(emotion)\n",
    "            vals.append(val)\n",
    "            acts.append(act)\n",
    "            doms.append(dom)"
   ]
  },
  {
   "cell_type": "code",
   "execution_count": null,
   "metadata": {
    "id": "4U8k0u1sqBpp"
   },
   "outputs": [],
   "source": [
    "df_iemocap = pd.DataFrame(columns=['start_time', 'end_time', 'wav_file', 'emotion', 'val', 'act', 'dom'])\n",
    "\n",
    "df_iemocap['start_time'] = start_times\n",
    "df_iemocap['end_time'] = end_times\n",
    "df_iemocap['wav_file'] = wav_file_names\n",
    "df_iemocap['emotion'] = emotions\n",
    "df_iemocap['val'] = vals\n",
    "df_iemocap['act'] = acts\n",
    "df_iemocap['dom'] = doms\n",
    "df_iemocap.tail()\n",
    "df_iemocap.to_csv('df_iemocap.csv', index=False)"
   ]
  },
  {
   "cell_type": "markdown",
   "metadata": {
    "id": "GiFmP0bOpID2"
   },
   "source": [
    "### **Build Audio Vectors**\n",
    "\n"
   ]
  },
  {
   "cell_type": "markdown",
   "metadata": {
    "id": "zbIRO948pCjR"
   },
   "source": [
    "Now that the labels have been extracted, we'll use the compiled csv (df_iemocap.csv) to split the original wav files into multiple frames"
   ]
  },
  {
   "cell_type": "code",
   "execution_count": null,
   "metadata": {
    "id": "JeeXqanEVdSY"
   },
   "outputs": [],
   "source": [
    "labels_df = pd.read_csv('Preprocessed/df_iemocap.csv')\n",
    "iemocap_dir = os.getcwd()+'/'"
   ]
  },
  {
   "cell_type": "code",
   "execution_count": null,
   "metadata": {
    "id": "hnCScC-Ho5G1"
   },
   "outputs": [],
   "source": [
    "sr = 44100\n",
    "audio_vectors = {}\n",
    "for sess in [2]:  # using all 5 sessions\n",
    "    wav_file_path = '{}Session{}/dialog/wav/'.format(iemocap_dir, sess)\n",
    "    orig_wav_files = os.listdir(wav_file_path)\n",
    "    for orig_wav_file in tqdm(orig_wav_files):\n",
    "        try:\n",
    "            orig_wav_vector, _sr = librosa.load(wav_file_path + orig_wav_file, sr=sr)\n",
    "            orig_wav_file, file_format = orig_wav_file.split('.')\n",
    "            for index, row in labels_df[labels_df['wav_file'].str.contains(orig_wav_file)].iterrows():\n",
    "                start_time, end_time, truncated_wav_file_name, emotion, val, act, dom = row['start_time'], row['end_time'], row['wav_file'], row['emotion'], row['val'], row['act'], row['dom']\n",
    "                start_frame = math.floor(start_time * sr)\n",
    "                end_frame = math.floor(end_time * sr)\n",
    "                truncated_wav_vector = orig_wav_vector[start_frame:end_frame + 1]\n",
    "                audio_vectors[truncated_wav_file_name] = truncated_wav_vector\n",
    "        except:\n",
    "            print('An exception occured for {}'.format(orig_wav_file))\n",
    "    with open('Preprocessed/audio_vectors_{}.pkl'.format(sess), 'wb') as f:\n",
    "        pickle.dump(audio_vectors, f)"
   ]
  },
  {
   "cell_type": "markdown",
   "metadata": {
    "id": "6JC_qWqBLpo4"
   },
   "source": [
    "## Extract Features "
   ]
  },
  {
   "cell_type": "code",
   "execution_count": null,
   "metadata": {
    "colab": {
     "base_uri": "https://localhost:8080/"
    },
    "id": "u3VxooIZSOPx",
    "outputId": "739b4030-e770-4609-8e25-7b2ad361df71",
    "executionInfo": {
     "status": "ok",
     "timestamp": 1681789750446,
     "user_tz": 240,
     "elapsed": 4328758,
     "user": {
      "displayName": "Bhuwan Dutt",
      "userId": "01290275309583295504"
     }
    },
    "pycharm": {
     "is_executing": true
    }
   },
   "outputs": [],
   "source": [
    "import sys\n",
    "columns = ['wav_file', 'label', 'sig_mean', 'sig_std', 'rmse_mean', 'rmse_std', 'silence', 'harmonic', 'auto_corr_max', 'auto_corr_std']\n",
    "df_features = pd.DataFrame(columns=columns)\n",
    "\n",
    "emotion_dict = {'ang': 0,\n",
    "                'hap': 1,\n",
    "                'exc': 2,\n",
    "                'sad': 3,\n",
    "                'fru': 4,\n",
    "                'fea': 5,\n",
    "                'sur': 6,\n",
    "                'neu': 7,\n",
    "                'xxx': 8,\n",
    "                'oth': 8}\n",
    "\n",
    "for sess in tqdm(range(5, 6)):\n",
    "    labels_df = pd.read_csv('Preprocessed/df_iemocap.csv')\n",
    "    iemocap_dir = os.getcwd()+'/'\n",
    "    data_dir = iemocap_dir+'Preprocessed/'\n",
    "    labels_path = '{}df_iemocap.csv'.format(data_dir)\n",
    "    audio_vectors_path = '{}audio_vectors_'.format(data_dir)\n",
    "    audio_vectors = pickle.load(open('{}{}.pkl'.format(audio_vectors_path, sess), 'rb'))\n",
    "    # Extract the wav file names from CSV File that starts with Ses0{1-5}\n",
    "    labels_subset = labels_df[labels_df['wav_file'].str.contains('Ses0{}'.format(sess))] \n",
    "     \n",
    "    feature_list = []\n",
    "    \n",
    "    def extract_features(row):\n",
    "        try:\n",
    "            wav_file_name = row['wav_file']\n",
    "            label = emotion_dict[row['emotion']]\n",
    "            wav = audio_vectors[wav_file_name]\n",
    "\n",
    "            feature_list = [wav_file_name, label]  # wav_file, label\n",
    "            sig_mean = np.mean(abs(wav))\n",
    "            feature_list.append(sig_mean)  # sig_mean\n",
    "            feature_list.append(np.std(wav))  # sig_std\n",
    "            rmse = librosa.feature.rms(y=wav + 0.0001)[0]\n",
    "            feature_list.append(np.mean(rmse))  # rmse_mean\n",
    "            feature_list.append(np.std(rmse))  # rmse_std\n",
    "\n",
    "            silence = 0\n",
    "            for e in rmse:\n",
    "                if e <= 0.4 * np.mean(rmse):\n",
    "                    silence += 1\n",
    "            silence /= float(len(rmse))\n",
    "            feature_list.append(silence)  # silence\n",
    "\n",
    "            y_harmonic = librosa.effects.hpss(wav)[0]\n",
    "            feature_list.append(np.mean(y_harmonic) * 1000)  # harmonic (scaled by 1000)\n",
    "\n",
    "            cl = 0.45 * sig_mean\n",
    "            center_clipped = []\n",
    "            for s in wav:\n",
    "                if s >= cl:\n",
    "                    center_clipped.append(s - cl)\n",
    "                elif s <= -cl:\n",
    "                    center_clipped.append(s + cl)\n",
    "                elif np.abs(s) < cl:\n",
    "                    center_clipped.append(0)\n",
    "            auto_corrs = librosa.core.autocorrelate(np.array(center_clipped))\n",
    "            feature_list.append(1000 * np.max(auto_corrs)/len(auto_corrs))  # auto_corr_max (scaled by 1000)\n",
    "            feature_list.append(np.std(auto_corrs))  # auto_corr_std\n",
    "\n",
    "            return pd.Series(feature_list, index=columns)\n",
    "        except:\n",
    "            return pd.Series([None]*len(columns), index=columns)\n",
    "\n",
    "    # Making a feature subset by applying the Extract Features function to each record\n",
    "    features_subset = labels_subset.apply(extract_features, axis=1)\n",
    "    features_subset = features_subset.dropna()\n",
    "    df_features = pd.concat([df_features, features_subset], ignore_index=True)\n",
    "    output_path=data_dir+'/audio_features.csv'\n",
    "    #Store records in a csv file\n",
    "    df_features.to_csv(output_path, mode='a', header=False)\n",
    "    \n",
    "#df_features.to_csv(data_dir+'/audio_features.csv', index=False)"
   ]
  },
  {
   "cell_type": "markdown",
   "source": [
    "## Build Speech Data Files"
   ],
   "metadata": {
    "id": "e4PPJkOKJAuZ"
   }
  },
  {
   "cell_type": "code",
   "execution_count": 1,
   "metadata": {
    "id": "Wg5w9I4tmfSj",
    "executionInfo": {
     "status": "ok",
     "timestamp": 1681936683915,
     "user_tz": 240,
     "elapsed": 1507,
     "user": {
      "displayName": "Bhuwan Dutt",
      "userId": "01290275309583295504"
     }
    }
   },
   "outputs": [],
   "source": [
    "from sklearn.model_selection import train_test_split\n",
    "from sklearn.preprocessing import MinMaxScaler"
   ]
  },
  {
   "cell_type": "code",
   "source": [
    "df = pd.read_csv('Preprocessed/audio_features.csv')\n",
    "df = df[df['label'].isin([0, 1, 2, 3, 4, 5, 6, 7])]\n",
    "print(df.shape)\n",
    "display(df.head())\n",
    "\n",
    "# change 7 to 2\n",
    "df['label'] = df['label'].map({0: 0, 1: 1, 2: 1, 3: 2, 4: 2, 5: 3, 6: 4, 7: 5})\n",
    "df.head()"
   ],
   "metadata": {
    "colab": {
     "base_uri": "https://localhost:8080/",
     "height": 506
    },
    "id": "xa3ptBjTJHTL",
    "executionInfo": {
     "status": "ok",
     "timestamp": 1681936699338,
     "user_tz": 240,
     "elapsed": 562,
     "user": {
      "displayName": "Bhuwan Dutt",
      "userId": "01290275309583295504"
     }
    },
    "outputId": "ad0f109f-9325-4afd-95e6-17ad187bc2ec"
   },
   "execution_count": 5,
   "outputs": [
    {
     "output_type": "stream",
     "name": "stdout",
     "text": [
      "(11701, 11)\n"
     ]
    },
    {
     "output_type": "display_data",
     "data": {
      "text/plain": [
       "   Unnamed: 0                wav_file  label  sig_mean   sig_std  rmse_mean  \\\n",
       "0           0  Ses01F_script03_2_F000    1.0  0.008801  0.013566   0.010886   \n",
       "1           1  Ses01F_script03_2_F001    1.0  0.012073  0.022863   0.014738   \n",
       "2           2  Ses01F_script03_2_F002    1.0  0.017942  0.031342   0.022245   \n",
       "4           4  Ses01F_script03_2_F004    7.0  0.019325  0.034797   0.023926   \n",
       "5           5  Ses01F_script03_2_F005    7.0  0.007106  0.012647   0.008764   \n",
       "\n",
       "   rmse_std   silence  harmonic  auto_corr_max  auto_corr_std  \n",
       "0  0.008046  0.245033 -0.011023       0.127530       0.470876  \n",
       "1  0.017455  0.458689 -0.012141       0.414200       1.523709  \n",
       "2  0.022012  0.403030 -0.006731       0.742588       2.397591  \n",
       "4  0.025248  0.336756 -0.006738       0.933833       3.296841  \n",
       "5  0.009070  0.511364 -0.008334       0.122458       0.347454  "
      ],
      "text/html": [
       "\n",
       "  <div id=\"df-db3b4250-c754-4b49-9efe-80d43c30f16e\">\n",
       "    <div class=\"colab-df-container\">\n",
       "      <div>\n",
       "<style scoped>\n",
       "    .dataframe tbody tr th:only-of-type {\n",
       "        vertical-align: middle;\n",
       "    }\n",
       "\n",
       "    .dataframe tbody tr th {\n",
       "        vertical-align: top;\n",
       "    }\n",
       "\n",
       "    .dataframe thead th {\n",
       "        text-align: right;\n",
       "    }\n",
       "</style>\n",
       "<table border=\"1\" class=\"dataframe\">\n",
       "  <thead>\n",
       "    <tr style=\"text-align: right;\">\n",
       "      <th></th>\n",
       "      <th>Unnamed: 0</th>\n",
       "      <th>wav_file</th>\n",
       "      <th>label</th>\n",
       "      <th>sig_mean</th>\n",
       "      <th>sig_std</th>\n",
       "      <th>rmse_mean</th>\n",
       "      <th>rmse_std</th>\n",
       "      <th>silence</th>\n",
       "      <th>harmonic</th>\n",
       "      <th>auto_corr_max</th>\n",
       "      <th>auto_corr_std</th>\n",
       "    </tr>\n",
       "  </thead>\n",
       "  <tbody>\n",
       "    <tr>\n",
       "      <th>0</th>\n",
       "      <td>0</td>\n",
       "      <td>Ses01F_script03_2_F000</td>\n",
       "      <td>1.0</td>\n",
       "      <td>0.008801</td>\n",
       "      <td>0.013566</td>\n",
       "      <td>0.010886</td>\n",
       "      <td>0.008046</td>\n",
       "      <td>0.245033</td>\n",
       "      <td>-0.011023</td>\n",
       "      <td>0.127530</td>\n",
       "      <td>0.470876</td>\n",
       "    </tr>\n",
       "    <tr>\n",
       "      <th>1</th>\n",
       "      <td>1</td>\n",
       "      <td>Ses01F_script03_2_F001</td>\n",
       "      <td>1.0</td>\n",
       "      <td>0.012073</td>\n",
       "      <td>0.022863</td>\n",
       "      <td>0.014738</td>\n",
       "      <td>0.017455</td>\n",
       "      <td>0.458689</td>\n",
       "      <td>-0.012141</td>\n",
       "      <td>0.414200</td>\n",
       "      <td>1.523709</td>\n",
       "    </tr>\n",
       "    <tr>\n",
       "      <th>2</th>\n",
       "      <td>2</td>\n",
       "      <td>Ses01F_script03_2_F002</td>\n",
       "      <td>1.0</td>\n",
       "      <td>0.017942</td>\n",
       "      <td>0.031342</td>\n",
       "      <td>0.022245</td>\n",
       "      <td>0.022012</td>\n",
       "      <td>0.403030</td>\n",
       "      <td>-0.006731</td>\n",
       "      <td>0.742588</td>\n",
       "      <td>2.397591</td>\n",
       "    </tr>\n",
       "    <tr>\n",
       "      <th>4</th>\n",
       "      <td>4</td>\n",
       "      <td>Ses01F_script03_2_F004</td>\n",
       "      <td>7.0</td>\n",
       "      <td>0.019325</td>\n",
       "      <td>0.034797</td>\n",
       "      <td>0.023926</td>\n",
       "      <td>0.025248</td>\n",
       "      <td>0.336756</td>\n",
       "      <td>-0.006738</td>\n",
       "      <td>0.933833</td>\n",
       "      <td>3.296841</td>\n",
       "    </tr>\n",
       "    <tr>\n",
       "      <th>5</th>\n",
       "      <td>5</td>\n",
       "      <td>Ses01F_script03_2_F005</td>\n",
       "      <td>7.0</td>\n",
       "      <td>0.007106</td>\n",
       "      <td>0.012647</td>\n",
       "      <td>0.008764</td>\n",
       "      <td>0.009070</td>\n",
       "      <td>0.511364</td>\n",
       "      <td>-0.008334</td>\n",
       "      <td>0.122458</td>\n",
       "      <td>0.347454</td>\n",
       "    </tr>\n",
       "  </tbody>\n",
       "</table>\n",
       "</div>\n",
       "      <button class=\"colab-df-convert\" onclick=\"convertToInteractive('df-db3b4250-c754-4b49-9efe-80d43c30f16e')\"\n",
       "              title=\"Convert this dataframe to an interactive table.\"\n",
       "              style=\"display:none;\">\n",
       "        \n",
       "  <svg xmlns=\"http://www.w3.org/2000/svg\" height=\"24px\"viewBox=\"0 0 24 24\"\n",
       "       width=\"24px\">\n",
       "    <path d=\"M0 0h24v24H0V0z\" fill=\"none\"/>\n",
       "    <path d=\"M18.56 5.44l.94 2.06.94-2.06 2.06-.94-2.06-.94-.94-2.06-.94 2.06-2.06.94zm-11 1L8.5 8.5l.94-2.06 2.06-.94-2.06-.94L8.5 2.5l-.94 2.06-2.06.94zm10 10l.94 2.06.94-2.06 2.06-.94-2.06-.94-.94-2.06-.94 2.06-2.06.94z\"/><path d=\"M17.41 7.96l-1.37-1.37c-.4-.4-.92-.59-1.43-.59-.52 0-1.04.2-1.43.59L10.3 9.45l-7.72 7.72c-.78.78-.78 2.05 0 2.83L4 21.41c.39.39.9.59 1.41.59.51 0 1.02-.2 1.41-.59l7.78-7.78 2.81-2.81c.8-.78.8-2.07 0-2.86zM5.41 20L4 18.59l7.72-7.72 1.47 1.35L5.41 20z\"/>\n",
       "  </svg>\n",
       "      </button>\n",
       "      \n",
       "  <style>\n",
       "    .colab-df-container {\n",
       "      display:flex;\n",
       "      flex-wrap:wrap;\n",
       "      gap: 12px;\n",
       "    }\n",
       "\n",
       "    .colab-df-convert {\n",
       "      background-color: #E8F0FE;\n",
       "      border: none;\n",
       "      border-radius: 50%;\n",
       "      cursor: pointer;\n",
       "      display: none;\n",
       "      fill: #1967D2;\n",
       "      height: 32px;\n",
       "      padding: 0 0 0 0;\n",
       "      width: 32px;\n",
       "    }\n",
       "\n",
       "    .colab-df-convert:hover {\n",
       "      background-color: #E2EBFA;\n",
       "      box-shadow: 0px 1px 2px rgba(60, 64, 67, 0.3), 0px 1px 3px 1px rgba(60, 64, 67, 0.15);\n",
       "      fill: #174EA6;\n",
       "    }\n",
       "\n",
       "    [theme=dark] .colab-df-convert {\n",
       "      background-color: #3B4455;\n",
       "      fill: #D2E3FC;\n",
       "    }\n",
       "\n",
       "    [theme=dark] .colab-df-convert:hover {\n",
       "      background-color: #434B5C;\n",
       "      box-shadow: 0px 1px 3px 1px rgba(0, 0, 0, 0.15);\n",
       "      filter: drop-shadow(0px 1px 2px rgba(0, 0, 0, 0.3));\n",
       "      fill: #FFFFFF;\n",
       "    }\n",
       "  </style>\n",
       "\n",
       "      <script>\n",
       "        const buttonEl =\n",
       "          document.querySelector('#df-db3b4250-c754-4b49-9efe-80d43c30f16e button.colab-df-convert');\n",
       "        buttonEl.style.display =\n",
       "          google.colab.kernel.accessAllowed ? 'block' : 'none';\n",
       "\n",
       "        async function convertToInteractive(key) {\n",
       "          const element = document.querySelector('#df-db3b4250-c754-4b49-9efe-80d43c30f16e');\n",
       "          const dataTable =\n",
       "            await google.colab.kernel.invokeFunction('convertToInteractive',\n",
       "                                                     [key], {});\n",
       "          if (!dataTable) return;\n",
       "\n",
       "          const docLinkHtml = 'Like what you see? Visit the ' +\n",
       "            '<a target=\"_blank\" href=https://colab.research.google.com/notebooks/data_table.ipynb>data table notebook</a>'\n",
       "            + ' to learn more about interactive tables.';\n",
       "          element.innerHTML = '';\n",
       "          dataTable['output_type'] = 'display_data';\n",
       "          await google.colab.output.renderOutput(dataTable, element);\n",
       "          const docLink = document.createElement('div');\n",
       "          docLink.innerHTML = docLinkHtml;\n",
       "          element.appendChild(docLink);\n",
       "        }\n",
       "      </script>\n",
       "    </div>\n",
       "  </div>\n",
       "  "
      ]
     },
     "metadata": {}
    },
    {
     "output_type": "execute_result",
     "data": {
      "text/plain": [
       "   Unnamed: 0                wav_file  label  sig_mean   sig_std  rmse_mean  \\\n",
       "0           0  Ses01F_script03_2_F000      1  0.008801  0.013566   0.010886   \n",
       "1           1  Ses01F_script03_2_F001      1  0.012073  0.022863   0.014738   \n",
       "2           2  Ses01F_script03_2_F002      1  0.017942  0.031342   0.022245   \n",
       "4           4  Ses01F_script03_2_F004      5  0.019325  0.034797   0.023926   \n",
       "5           5  Ses01F_script03_2_F005      5  0.007106  0.012647   0.008764   \n",
       "\n",
       "   rmse_std   silence  harmonic  auto_corr_max  auto_corr_std  \n",
       "0  0.008046  0.245033 -0.011023       0.127530       0.470876  \n",
       "1  0.017455  0.458689 -0.012141       0.414200       1.523709  \n",
       "2  0.022012  0.403030 -0.006731       0.742588       2.397591  \n",
       "4  0.025248  0.336756 -0.006738       0.933833       3.296841  \n",
       "5  0.009070  0.511364 -0.008334       0.122458       0.347454  "
      ],
      "text/html": [
       "\n",
       "  <div id=\"df-0199b484-01e7-45a3-b02e-3a0c7717645e\">\n",
       "    <div class=\"colab-df-container\">\n",
       "      <div>\n",
       "<style scoped>\n",
       "    .dataframe tbody tr th:only-of-type {\n",
       "        vertical-align: middle;\n",
       "    }\n",
       "\n",
       "    .dataframe tbody tr th {\n",
       "        vertical-align: top;\n",
       "    }\n",
       "\n",
       "    .dataframe thead th {\n",
       "        text-align: right;\n",
       "    }\n",
       "</style>\n",
       "<table border=\"1\" class=\"dataframe\">\n",
       "  <thead>\n",
       "    <tr style=\"text-align: right;\">\n",
       "      <th></th>\n",
       "      <th>Unnamed: 0</th>\n",
       "      <th>wav_file</th>\n",
       "      <th>label</th>\n",
       "      <th>sig_mean</th>\n",
       "      <th>sig_std</th>\n",
       "      <th>rmse_mean</th>\n",
       "      <th>rmse_std</th>\n",
       "      <th>silence</th>\n",
       "      <th>harmonic</th>\n",
       "      <th>auto_corr_max</th>\n",
       "      <th>auto_corr_std</th>\n",
       "    </tr>\n",
       "  </thead>\n",
       "  <tbody>\n",
       "    <tr>\n",
       "      <th>0</th>\n",
       "      <td>0</td>\n",
       "      <td>Ses01F_script03_2_F000</td>\n",
       "      <td>1</td>\n",
       "      <td>0.008801</td>\n",
       "      <td>0.013566</td>\n",
       "      <td>0.010886</td>\n",
       "      <td>0.008046</td>\n",
       "      <td>0.245033</td>\n",
       "      <td>-0.011023</td>\n",
       "      <td>0.127530</td>\n",
       "      <td>0.470876</td>\n",
       "    </tr>\n",
       "    <tr>\n",
       "      <th>1</th>\n",
       "      <td>1</td>\n",
       "      <td>Ses01F_script03_2_F001</td>\n",
       "      <td>1</td>\n",
       "      <td>0.012073</td>\n",
       "      <td>0.022863</td>\n",
       "      <td>0.014738</td>\n",
       "      <td>0.017455</td>\n",
       "      <td>0.458689</td>\n",
       "      <td>-0.012141</td>\n",
       "      <td>0.414200</td>\n",
       "      <td>1.523709</td>\n",
       "    </tr>\n",
       "    <tr>\n",
       "      <th>2</th>\n",
       "      <td>2</td>\n",
       "      <td>Ses01F_script03_2_F002</td>\n",
       "      <td>1</td>\n",
       "      <td>0.017942</td>\n",
       "      <td>0.031342</td>\n",
       "      <td>0.022245</td>\n",
       "      <td>0.022012</td>\n",
       "      <td>0.403030</td>\n",
       "      <td>-0.006731</td>\n",
       "      <td>0.742588</td>\n",
       "      <td>2.397591</td>\n",
       "    </tr>\n",
       "    <tr>\n",
       "      <th>4</th>\n",
       "      <td>4</td>\n",
       "      <td>Ses01F_script03_2_F004</td>\n",
       "      <td>5</td>\n",
       "      <td>0.019325</td>\n",
       "      <td>0.034797</td>\n",
       "      <td>0.023926</td>\n",
       "      <td>0.025248</td>\n",
       "      <td>0.336756</td>\n",
       "      <td>-0.006738</td>\n",
       "      <td>0.933833</td>\n",
       "      <td>3.296841</td>\n",
       "    </tr>\n",
       "    <tr>\n",
       "      <th>5</th>\n",
       "      <td>5</td>\n",
       "      <td>Ses01F_script03_2_F005</td>\n",
       "      <td>5</td>\n",
       "      <td>0.007106</td>\n",
       "      <td>0.012647</td>\n",
       "      <td>0.008764</td>\n",
       "      <td>0.009070</td>\n",
       "      <td>0.511364</td>\n",
       "      <td>-0.008334</td>\n",
       "      <td>0.122458</td>\n",
       "      <td>0.347454</td>\n",
       "    </tr>\n",
       "  </tbody>\n",
       "</table>\n",
       "</div>\n",
       "      <button class=\"colab-df-convert\" onclick=\"convertToInteractive('df-0199b484-01e7-45a3-b02e-3a0c7717645e')\"\n",
       "              title=\"Convert this dataframe to an interactive table.\"\n",
       "              style=\"display:none;\">\n",
       "        \n",
       "  <svg xmlns=\"http://www.w3.org/2000/svg\" height=\"24px\"viewBox=\"0 0 24 24\"\n",
       "       width=\"24px\">\n",
       "    <path d=\"M0 0h24v24H0V0z\" fill=\"none\"/>\n",
       "    <path d=\"M18.56 5.44l.94 2.06.94-2.06 2.06-.94-2.06-.94-.94-2.06-.94 2.06-2.06.94zm-11 1L8.5 8.5l.94-2.06 2.06-.94-2.06-.94L8.5 2.5l-.94 2.06-2.06.94zm10 10l.94 2.06.94-2.06 2.06-.94-2.06-.94-.94-2.06-.94 2.06-2.06.94z\"/><path d=\"M17.41 7.96l-1.37-1.37c-.4-.4-.92-.59-1.43-.59-.52 0-1.04.2-1.43.59L10.3 9.45l-7.72 7.72c-.78.78-.78 2.05 0 2.83L4 21.41c.39.39.9.59 1.41.59.51 0 1.02-.2 1.41-.59l7.78-7.78 2.81-2.81c.8-.78.8-2.07 0-2.86zM5.41 20L4 18.59l7.72-7.72 1.47 1.35L5.41 20z\"/>\n",
       "  </svg>\n",
       "      </button>\n",
       "      \n",
       "  <style>\n",
       "    .colab-df-container {\n",
       "      display:flex;\n",
       "      flex-wrap:wrap;\n",
       "      gap: 12px;\n",
       "    }\n",
       "\n",
       "    .colab-df-convert {\n",
       "      background-color: #E8F0FE;\n",
       "      border: none;\n",
       "      border-radius: 50%;\n",
       "      cursor: pointer;\n",
       "      display: none;\n",
       "      fill: #1967D2;\n",
       "      height: 32px;\n",
       "      padding: 0 0 0 0;\n",
       "      width: 32px;\n",
       "    }\n",
       "\n",
       "    .colab-df-convert:hover {\n",
       "      background-color: #E2EBFA;\n",
       "      box-shadow: 0px 1px 2px rgba(60, 64, 67, 0.3), 0px 1px 3px 1px rgba(60, 64, 67, 0.15);\n",
       "      fill: #174EA6;\n",
       "    }\n",
       "\n",
       "    [theme=dark] .colab-df-convert {\n",
       "      background-color: #3B4455;\n",
       "      fill: #D2E3FC;\n",
       "    }\n",
       "\n",
       "    [theme=dark] .colab-df-convert:hover {\n",
       "      background-color: #434B5C;\n",
       "      box-shadow: 0px 1px 3px 1px rgba(0, 0, 0, 0.15);\n",
       "      filter: drop-shadow(0px 1px 2px rgba(0, 0, 0, 0.3));\n",
       "      fill: #FFFFFF;\n",
       "    }\n",
       "  </style>\n",
       "\n",
       "      <script>\n",
       "        const buttonEl =\n",
       "          document.querySelector('#df-0199b484-01e7-45a3-b02e-3a0c7717645e button.colab-df-convert');\n",
       "        buttonEl.style.display =\n",
       "          google.colab.kernel.accessAllowed ? 'block' : 'none';\n",
       "\n",
       "        async function convertToInteractive(key) {\n",
       "          const element = document.querySelector('#df-0199b484-01e7-45a3-b02e-3a0c7717645e');\n",
       "          const dataTable =\n",
       "            await google.colab.kernel.invokeFunction('convertToInteractive',\n",
       "                                                     [key], {});\n",
       "          if (!dataTable) return;\n",
       "\n",
       "          const docLinkHtml = 'Like what you see? Visit the ' +\n",
       "            '<a target=\"_blank\" href=https://colab.research.google.com/notebooks/data_table.ipynb>data table notebook</a>'\n",
       "            + ' to learn more about interactive tables.';\n",
       "          element.innerHTML = '';\n",
       "          dataTable['output_type'] = 'display_data';\n",
       "          await google.colab.output.renderOutput(dataTable, element);\n",
       "          const docLink = document.createElement('div');\n",
       "          docLink.innerHTML = docLinkHtml;\n",
       "          element.appendChild(docLink);\n",
       "        }\n",
       "      </script>\n",
       "    </div>\n",
       "  </div>\n",
       "  "
      ]
     },
     "metadata": {},
     "execution_count": 5
    }
   ]
  },
  {
   "cell_type": "code",
   "source": [
    "scalar = MinMaxScaler()\n",
    "df[df.columns[3:]] = scalar.fit_transform(df[df.columns[3:]])\n",
    "df.head()"
   ],
   "metadata": {
    "colab": {
     "base_uri": "https://localhost:8080/",
     "height": 285
    },
    "id": "t_1KgVPvJSY6",
    "executionInfo": {
     "status": "ok",
     "timestamp": 1681936707877,
     "user_tz": 240,
     "elapsed": 200,
     "user": {
      "displayName": "Bhuwan Dutt",
      "userId": "01290275309583295504"
     }
    },
    "outputId": "c6558498-69ea-4a99-c28b-f063408d93fc"
   },
   "execution_count": 6,
   "outputs": [
    {
     "output_type": "execute_result",
     "data": {
      "text/plain": [
       "   Unnamed: 0                wav_file  label  sig_mean   sig_std  rmse_mean  \\\n",
       "0           0  Ses01F_script03_2_F000      1  0.028859  0.034118   0.029388   \n",
       "1           1  Ses01F_script03_2_F001      1  0.040347  0.058862   0.040528   \n",
       "2           2  Ses01F_script03_2_F002      1  0.060954  0.081425   0.062243   \n",
       "4           4  Ses01F_script03_2_F004      5  0.065810  0.090619   0.067105   \n",
       "5           5  Ses01F_script03_2_F005      5  0.022907  0.031672   0.023248   \n",
       "\n",
       "   rmse_std   silence  harmonic  auto_corr_max  auto_corr_std  \n",
       "0  0.043543  0.318727  0.170701       0.001539       0.001662  \n",
       "1  0.095167  0.596641  0.170483       0.005008       0.005383  \n",
       "2  0.120174  0.524242  0.171538       0.008982       0.008472  \n",
       "4  0.137930  0.438036  0.171537       0.011296       0.011651  \n",
       "5  0.049163  0.665157  0.171225       0.001478       0.001226  "
      ],
      "text/html": [
       "\n",
       "  <div id=\"df-b7c4a63f-1524-491c-a6f1-72e37e602f13\">\n",
       "    <div class=\"colab-df-container\">\n",
       "      <div>\n",
       "<style scoped>\n",
       "    .dataframe tbody tr th:only-of-type {\n",
       "        vertical-align: middle;\n",
       "    }\n",
       "\n",
       "    .dataframe tbody tr th {\n",
       "        vertical-align: top;\n",
       "    }\n",
       "\n",
       "    .dataframe thead th {\n",
       "        text-align: right;\n",
       "    }\n",
       "</style>\n",
       "<table border=\"1\" class=\"dataframe\">\n",
       "  <thead>\n",
       "    <tr style=\"text-align: right;\">\n",
       "      <th></th>\n",
       "      <th>Unnamed: 0</th>\n",
       "      <th>wav_file</th>\n",
       "      <th>label</th>\n",
       "      <th>sig_mean</th>\n",
       "      <th>sig_std</th>\n",
       "      <th>rmse_mean</th>\n",
       "      <th>rmse_std</th>\n",
       "      <th>silence</th>\n",
       "      <th>harmonic</th>\n",
       "      <th>auto_corr_max</th>\n",
       "      <th>auto_corr_std</th>\n",
       "    </tr>\n",
       "  </thead>\n",
       "  <tbody>\n",
       "    <tr>\n",
       "      <th>0</th>\n",
       "      <td>0</td>\n",
       "      <td>Ses01F_script03_2_F000</td>\n",
       "      <td>1</td>\n",
       "      <td>0.028859</td>\n",
       "      <td>0.034118</td>\n",
       "      <td>0.029388</td>\n",
       "      <td>0.043543</td>\n",
       "      <td>0.318727</td>\n",
       "      <td>0.170701</td>\n",
       "      <td>0.001539</td>\n",
       "      <td>0.001662</td>\n",
       "    </tr>\n",
       "    <tr>\n",
       "      <th>1</th>\n",
       "      <td>1</td>\n",
       "      <td>Ses01F_script03_2_F001</td>\n",
       "      <td>1</td>\n",
       "      <td>0.040347</td>\n",
       "      <td>0.058862</td>\n",
       "      <td>0.040528</td>\n",
       "      <td>0.095167</td>\n",
       "      <td>0.596641</td>\n",
       "      <td>0.170483</td>\n",
       "      <td>0.005008</td>\n",
       "      <td>0.005383</td>\n",
       "    </tr>\n",
       "    <tr>\n",
       "      <th>2</th>\n",
       "      <td>2</td>\n",
       "      <td>Ses01F_script03_2_F002</td>\n",
       "      <td>1</td>\n",
       "      <td>0.060954</td>\n",
       "      <td>0.081425</td>\n",
       "      <td>0.062243</td>\n",
       "      <td>0.120174</td>\n",
       "      <td>0.524242</td>\n",
       "      <td>0.171538</td>\n",
       "      <td>0.008982</td>\n",
       "      <td>0.008472</td>\n",
       "    </tr>\n",
       "    <tr>\n",
       "      <th>4</th>\n",
       "      <td>4</td>\n",
       "      <td>Ses01F_script03_2_F004</td>\n",
       "      <td>5</td>\n",
       "      <td>0.065810</td>\n",
       "      <td>0.090619</td>\n",
       "      <td>0.067105</td>\n",
       "      <td>0.137930</td>\n",
       "      <td>0.438036</td>\n",
       "      <td>0.171537</td>\n",
       "      <td>0.011296</td>\n",
       "      <td>0.011651</td>\n",
       "    </tr>\n",
       "    <tr>\n",
       "      <th>5</th>\n",
       "      <td>5</td>\n",
       "      <td>Ses01F_script03_2_F005</td>\n",
       "      <td>5</td>\n",
       "      <td>0.022907</td>\n",
       "      <td>0.031672</td>\n",
       "      <td>0.023248</td>\n",
       "      <td>0.049163</td>\n",
       "      <td>0.665157</td>\n",
       "      <td>0.171225</td>\n",
       "      <td>0.001478</td>\n",
       "      <td>0.001226</td>\n",
       "    </tr>\n",
       "  </tbody>\n",
       "</table>\n",
       "</div>\n",
       "      <button class=\"colab-df-convert\" onclick=\"convertToInteractive('df-b7c4a63f-1524-491c-a6f1-72e37e602f13')\"\n",
       "              title=\"Convert this dataframe to an interactive table.\"\n",
       "              style=\"display:none;\">\n",
       "        \n",
       "  <svg xmlns=\"http://www.w3.org/2000/svg\" height=\"24px\"viewBox=\"0 0 24 24\"\n",
       "       width=\"24px\">\n",
       "    <path d=\"M0 0h24v24H0V0z\" fill=\"none\"/>\n",
       "    <path d=\"M18.56 5.44l.94 2.06.94-2.06 2.06-.94-2.06-.94-.94-2.06-.94 2.06-2.06.94zm-11 1L8.5 8.5l.94-2.06 2.06-.94-2.06-.94L8.5 2.5l-.94 2.06-2.06.94zm10 10l.94 2.06.94-2.06 2.06-.94-2.06-.94-.94-2.06-.94 2.06-2.06.94z\"/><path d=\"M17.41 7.96l-1.37-1.37c-.4-.4-.92-.59-1.43-.59-.52 0-1.04.2-1.43.59L10.3 9.45l-7.72 7.72c-.78.78-.78 2.05 0 2.83L4 21.41c.39.39.9.59 1.41.59.51 0 1.02-.2 1.41-.59l7.78-7.78 2.81-2.81c.8-.78.8-2.07 0-2.86zM5.41 20L4 18.59l7.72-7.72 1.47 1.35L5.41 20z\"/>\n",
       "  </svg>\n",
       "      </button>\n",
       "      \n",
       "  <style>\n",
       "    .colab-df-container {\n",
       "      display:flex;\n",
       "      flex-wrap:wrap;\n",
       "      gap: 12px;\n",
       "    }\n",
       "\n",
       "    .colab-df-convert {\n",
       "      background-color: #E8F0FE;\n",
       "      border: none;\n",
       "      border-radius: 50%;\n",
       "      cursor: pointer;\n",
       "      display: none;\n",
       "      fill: #1967D2;\n",
       "      height: 32px;\n",
       "      padding: 0 0 0 0;\n",
       "      width: 32px;\n",
       "    }\n",
       "\n",
       "    .colab-df-convert:hover {\n",
       "      background-color: #E2EBFA;\n",
       "      box-shadow: 0px 1px 2px rgba(60, 64, 67, 0.3), 0px 1px 3px 1px rgba(60, 64, 67, 0.15);\n",
       "      fill: #174EA6;\n",
       "    }\n",
       "\n",
       "    [theme=dark] .colab-df-convert {\n",
       "      background-color: #3B4455;\n",
       "      fill: #D2E3FC;\n",
       "    }\n",
       "\n",
       "    [theme=dark] .colab-df-convert:hover {\n",
       "      background-color: #434B5C;\n",
       "      box-shadow: 0px 1px 3px 1px rgba(0, 0, 0, 0.15);\n",
       "      filter: drop-shadow(0px 1px 2px rgba(0, 0, 0, 0.3));\n",
       "      fill: #FFFFFF;\n",
       "    }\n",
       "  </style>\n",
       "\n",
       "      <script>\n",
       "        const buttonEl =\n",
       "          document.querySelector('#df-b7c4a63f-1524-491c-a6f1-72e37e602f13 button.colab-df-convert');\n",
       "        buttonEl.style.display =\n",
       "          google.colab.kernel.accessAllowed ? 'block' : 'none';\n",
       "\n",
       "        async function convertToInteractive(key) {\n",
       "          const element = document.querySelector('#df-b7c4a63f-1524-491c-a6f1-72e37e602f13');\n",
       "          const dataTable =\n",
       "            await google.colab.kernel.invokeFunction('convertToInteractive',\n",
       "                                                     [key], {});\n",
       "          if (!dataTable) return;\n",
       "\n",
       "          const docLinkHtml = 'Like what you see? Visit the ' +\n",
       "            '<a target=\"_blank\" href=https://colab.research.google.com/notebooks/data_table.ipynb>data table notebook</a>'\n",
       "            + ' to learn more about interactive tables.';\n",
       "          element.innerHTML = '';\n",
       "          dataTable['output_type'] = 'display_data';\n",
       "          await google.colab.output.renderOutput(dataTable, element);\n",
       "          const docLink = document.createElement('div');\n",
       "          docLink.innerHTML = docLinkHtml;\n",
       "          element.appendChild(docLink);\n",
       "        }\n",
       "      </script>\n",
       "    </div>\n",
       "  </div>\n",
       "  "
      ]
     },
     "metadata": {},
     "execution_count": 6
    }
   ]
  },
  {
   "cell_type": "code",
   "source": [
    "x_train, x_test = train_test_split(df, test_size=0.20)\n",
    "\n",
    "x_train.to_csv('Preprocessed/s2e/audio_train.csv', index=False)\n",
    "x_test.to_csv('Preprocessed/s2e/audio_test.csv', index=False)\n",
    "\n",
    "print(x_train.shape, x_test.shape)"
   ],
   "metadata": {
    "colab": {
     "base_uri": "https://localhost:8080/"
    },
    "id": "uHhIRMKqNzS6",
    "executionInfo": {
     "status": "ok",
     "timestamp": 1681936716860,
     "user_tz": 240,
     "elapsed": 1358,
     "user": {
      "displayName": "Bhuwan Dutt",
      "userId": "01290275309583295504"
     }
    },
    "outputId": "4a192a16-680b-43e7-d311-f90b630aef47"
   },
   "execution_count": 7,
   "outputs": [
    {
     "output_type": "stream",
     "name": "stdout",
     "text": [
      "(9360, 11) (2341, 11)\n"
     ]
    }
   ]
  },
  {
   "cell_type": "markdown",
   "source": [
    "## Define preprocessing functions for text"
   ],
   "metadata": {
    "id": "LZwURpsZOJq9"
   }
  },
  {
   "cell_type": "code",
   "source": [
    "import unicodedata\n",
    "\n",
    "def unicodeToAscii(s):\n",
    "    return ''.join(\n",
    "        c for c in unicodedata.normalize('NFD', s)\n",
    "        if unicodedata.category(c) != 'Mn'\n",
    "    )\n",
    "\n",
    "# Lowercase, trim, and remove non-letter characters\n",
    "def normalizeString(s):\n",
    "    s = unicodeToAscii(s.lower().strip())\n",
    "    s = re.sub(r\"([.!?])\", r\" \\1\", s)\n",
    "    s = re.sub(r\"[^a-zA-Z.!?]+\", r\" \", s)\n",
    "    return s"
   ],
   "metadata": {
    "id": "urwBsfiDOCzU",
    "executionInfo": {
     "status": "ok",
     "timestamp": 1681936764606,
     "user_tz": 240,
     "elapsed": 183,
     "user": {
      "displayName": "Bhuwan Dutt",
      "userId": "01290275309583295504"
     }
    }
   },
   "execution_count": 8,
   "outputs": []
  },
  {
   "cell_type": "markdown",
   "source": [
    "## Build Text Features"
   ],
   "metadata": {
    "id": "DGmd9EQ1OPIK"
   }
  },
  {
   "cell_type": "code",
   "source": [
    "\n",
    "useful_regex = re.compile(r'^(\\w+)', re.IGNORECASE) #RE for Alphanumeric \n",
    "\n",
    "file2transcriptions = {}\n",
    "\n",
    "for sess in range(1, 6):\n",
    "    transcripts_path = os.getcwd()+'/Session{}/dialog/transcriptions/'.format(sess)\n",
    "    transcript_files = os.listdir(transcripts_path)\n",
    "    for f in transcript_files:\n",
    "        with open('{}{}'.format(transcripts_path, f), 'r') as f:\n",
    "            all_lines = f.readlines()\n",
    "\n",
    "        for l in all_lines:\n",
    "            audio_code = useful_regex.match(l).group()\n",
    "            #print(audio_code)\n",
    "            transcription = l.split(':')[-1].strip()\n",
    "            # assuming that all the keys would be unique and hence no `try`\n",
    "            file2transcriptions[audio_code] = transcription\n",
    "# save dict\n",
    "with open('Preprocessed/t2e/audiocode2text.pkl', 'wb') as file:\n",
    "    pickle.dump(file2transcriptions, file)\n",
    "len(file2transcriptions)"
   ],
   "metadata": {
    "colab": {
     "base_uri": "https://localhost:8080/"
    },
    "id": "v26kGthOOXRg",
    "executionInfo": {
     "status": "ok",
     "timestamp": 1681936815529,
     "user_tz": 240,
     "elapsed": 45431,
     "user": {
      "displayName": "Bhuwan Dutt",
      "userId": "01290275309583295504"
     }
    },
    "outputId": "a37c941f-9694-4053-ee66-eb39a31b23a2",
    "pycharm": {
     "is_executing": true
    }
   },
   "execution_count": null,
   "outputs": []
  },
  {
   "cell_type": "code",
   "source": [
    "audiocode2text = pickle.load(open('Preprocessed/t2e/audiocode2text.pkl', 'rb'))\n",
    "# Prepare text data\n",
    "text_train = pd.DataFrame()\n",
    "text_train['wav_file'] = x_train['wav_file']\n",
    "text_train['label'] = x_train['label']\n",
    "text_train['transcription'] = [normalizeString(audiocode2text[code]) for code in x_train['wav_file']]\n",
    "\n",
    "text_test = pd.DataFrame()\n",
    "text_test['wav_file'] = x_test['wav_file']\n",
    "text_test['label'] = x_test['label']\n",
    "text_test['transcription'] = [normalizeString(audiocode2text[code]) for code in x_test['wav_file']]\n",
    "\n",
    "text_train.to_csv('Preprocessed/t2e/text_train.csv', index=False)\n",
    "text_test.to_csv('Preprocessed/t2e/text_test.csv', index=False)\n",
    "\n",
    "print(text_train.shape, text_test.shape)"
   ],
   "metadata": {
    "colab": {
     "base_uri": "https://localhost:8080/"
    },
    "id": "jzga4hJ6OrWN",
    "executionInfo": {
     "status": "ok",
     "timestamp": 1681936847011,
     "user_tz": 240,
     "elapsed": 829,
     "user": {
      "displayName": "Bhuwan Dutt",
      "userId": "01290275309583295504"
     }
    },
    "outputId": "8ad1be39-866b-4e36-d29b-b1f1c353ddb1"
   },
   "execution_count": 10,
   "outputs": [
    {
     "output_type": "stream",
     "name": "stdout",
     "text": [
      "(9360, 3) (2341, 3)\n"
     ]
    }
   ]
  },
  {
   "cell_type": "code",
   "source": [],
   "metadata": {
    "id": "RJ2HtnWfPTnI"
   },
   "execution_count": null,
   "outputs": []
  }
 ],
 "metadata": {
  "colab": {
   "machine_shape": "hm",
   "provenance": [],
   "mount_file_id": "1RLctK72hlyl7U_nP5JsW3WY1Bonm_2Om",
   "authorship_tag": "ABX9TyMsb43aAru2TleM8WK2nvQS"
  },
  "gpuClass": "standard",
  "kernelspec": {
   "display_name": "Python 3",
   "name": "python3"
  },
  "language_info": {
   "name": "python"
  }
 },
 "nbformat": 4,
 "nbformat_minor": 0
}
